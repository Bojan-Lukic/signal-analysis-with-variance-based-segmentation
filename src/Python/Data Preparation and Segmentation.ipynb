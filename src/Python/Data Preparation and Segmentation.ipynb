{
 "cells": [
  {
   "cell_type": "code",
   "execution_count": null,
   "id": "185158b9",
   "metadata": {},
   "outputs": [],
   "source": [
    "import matplotlib.pyplot as plt\n",
    "import statistics\n",
    "import random\n",
    "import numpy as np\n",
    "import pandas as pd\n",
    "from statistics import variance as var\n",
    "from scipy.ndimage.filters import gaussian_filter1d\n",
    "from statistics import variance as var\n",
    "from test_signal import *\n",
    "from plot import *\n",
    "from brute_force_segmentation import *\n",
    "from approximated_segmentation import *\n",
    "from approximated_segmentation_multi import *"
   ]
  },
  {
   "cell_type": "code",
   "execution_count": null,
   "id": "6f8c4657",
   "metadata": {},
   "outputs": [],
   "source": [
    "# create equally spaced points between -5 and 5\n",
    "x = np.linspace(-5, 5, 19)\n",
    "\n",
    "# calculate the y value for each element of the x vector\n",
    "y = -0.5*x**2 + 28.5\n",
    "y = gaussian_filter1d(y, sigma=14)\n",
    "y2 = np.zeros(31) + 10\n",
    "y3 = y2\n",
    "y3 = np.append(y3, y)\n",
    "y3 = np.append(y3, y2) \n",
    "\n",
    "ysmoothed = gaussian_filter1d(y3, sigma=3.7)\n",
    "np.savetxt('resources/outfile.txt', ysmoothed, fmt='%d')\n",
    "\n",
    "single_plot(ysmoothed, 'Reading point / a.u.', 'Signal range / a.u.')\n",
    "plt.savefig(\"images/test_signal.svg\", bbox_inches=\"tight\")\n",
    "plt.show()"
   ]
  },
  {
   "cell_type": "code",
   "execution_count": null,
   "id": "59d3c5e7",
   "metadata": {},
   "outputs": [],
   "source": [
    "line_plot(ysmoothed, 'Reading point / a.u.', 'Signal range / a.u.', [20, 60], [\"Test signal\", \"Segmentation line\"])\n",
    "plt.savefig(\"images/test_signal_segmented.svg\", bbox_inches=\"tight\")\n",
    "plt.show()"
   ]
  },
  {
   "cell_type": "code",
   "execution_count": null,
   "id": "ca4dedf0",
   "metadata": {},
   "outputs": [],
   "source": [
    "line_plot(ysmoothed, 'Reading point / a.u.', 'Signal range / a.u.', [20, 40, 60], [\"Test signal\", \"Segmentation line\"])\n",
    "plt.savefig(\"images/test_signal_segmented_2.svg\", bbox_inches=\"tight\")\n",
    "plt.show()"
   ]
  },
  {
   "cell_type": "code",
   "execution_count": null,
   "id": "d2cc9f16",
   "metadata": {},
   "outputs": [],
   "source": [
    "# tot = create_test_signal()\n",
    "# np.savetxt('resources/outfile2.txt', tot, fmt='%d')\n",
    "# print(tot)"
   ]
  },
  {
   "cell_type": "code",
   "execution_count": null,
   "id": "5add8eea",
   "metadata": {},
   "outputs": [],
   "source": [
    "data = np.loadtxt('resources/outfile2.txt', dtype = int)\n",
    "A = data\n",
    "\n",
    "single_plot(A, 'Reading point / a.u.', 'Signal range / a.u.')\n",
    "plt.savefig(\"images/test_signal_2.svg\", bbox_inches=\"tight\")\n",
    "plt.show()"
   ]
  },
  {
   "cell_type": "code",
   "execution_count": null,
   "id": "80313568",
   "metadata": {},
   "outputs": [],
   "source": [
    "A = np.loadtxt('resources/outfile2.txt', dtype = int)\n",
    "\n",
    "line_plot(A, 'Reading point / a.u.', 'Signal range / a.u.', [10, 30, 50, 70], [\"Test signal\", \"Segmentation line\"])\n",
    "plt.savefig(\"images/test_signal_2_presegmentation.svg\", bbox_inches=\"tight\")\n",
    "plt.show()"
   ]
  },
  {
   "cell_type": "code",
   "execution_count": null,
   "id": "9c3ab284",
   "metadata": {},
   "outputs": [],
   "source": [
    "A = np.loadtxt('resources/outfile2.txt', dtype = int)\n",
    "\n",
    "line_plot(A, 'Reading point / a.u.', 'Signal range / a.u.', [20, 40, 60, 80], [\"Test signal\", \"Segmentation line\"])\n",
    "plt.savefig(\"images/test_signal_2_segmented.svg\", bbox_inches=\"tight\")\n",
    "plt.show()"
   ]
  },
  {
   "cell_type": "code",
   "execution_count": null,
   "id": "d0302847",
   "metadata": {},
   "outputs": [],
   "source": [
    "#BRUTE FORCE SEGMENTATION"
   ]
  },
  {
   "cell_type": "code",
   "execution_count": null,
   "id": "17323e3d",
   "metadata": {},
   "outputs": [],
   "source": [
    "A = np.loadtxt('resources/outfile2.txt', dtype = int)\n",
    "\n",
    "index = brute_force_segmentation(A)\n",
    "print(index)\n",
    "\n",
    "line_plot(A, 'Reading point / a.u.', 'Signal range / a.u.', index, [\"Test signal\", \"Segmentation line\"])\n",
    "plt.show()"
   ]
  },
  {
   "cell_type": "code",
   "execution_count": null,
   "id": "2cfc7360",
   "metadata": {},
   "outputs": [],
   "source": [
    "#SEGMENTATION WITH CUSTOM ALGORITHM"
   ]
  },
  {
   "cell_type": "code",
   "execution_count": null,
   "id": "aca4b48f",
   "metadata": {},
   "outputs": [],
   "source": [
    "A = np.loadtxt('resources/outfile2.txt', dtype=int)\n",
    "\n",
    "n_segments = 5\n",
    "preseg = [10, 30, 50, 70]\n",
    "# for i in range(1, n_segments):\n",
    "#     preseg.append(int(len(A)*i/n_segments))\n",
    "\n",
    "line_plot(A, 'Reading point / a.u.', 'Signal range / a.u.', preseg, [\"Test signal\", \"Segmentation line\"])\n",
    "plt.show()\n",
    "\n",
    "print(\"Presegmentation:\", preseg)\n",
    "print(\"\")\n",
    "print(\"Variance of segment 1:\", np.var(A[0:preseg[0]]))\n",
    "for i in range(0, len(preseg) - 1):\n",
    "    print(\"Variance of segment\", i + 2, \":\", np.var(A[preseg[i]:preseg[i + 1]]))\n",
    "print(\"Variance of segment\", i + 3, \":\", np.var(A[preseg[i + 1]:len(A)]))\n",
    "var_sum = np.var(A[0:preseg[0]])\n",
    "for i in range(0, len(preseg) - 1):\n",
    "    var_sum += np.var(A[preseg[i]:preseg[i + 1]])\n",
    "var_sum += np.var(A[preseg[i + 1]:len(A)])\n",
    "print(\"Sum of variances:\", var_sum)\n",
    "print(\"\")\n",
    "print(\"\")\n",
    "\n",
    "var_segments = preseg\n",
    "\n",
    "print(\"Segmentation indices:\")\n",
    "print(\"\")\n",
    "\n",
    "var_segments = approximated_segmentation(A, var_segments)\n",
    "    \n",
    "line_plot(A, 'Reading point / a.u.', 'Signal range / a.u.', var_segments, [\"Test signal\", \"Segmentation line\"])\n",
    "plt.show()    \n",
    "    \n",
    "print(\"\")\n",
    "print(\"\")\n",
    "print(\"New segmentation:\", var_segments)\n",
    "print(\"\")\n",
    "print(\"Variance of segment 1:\", np.var(A[0:var_segments[0]]))\n",
    "for i in range(0, len(var_segments) - 1):\n",
    "    print(\"Variance of segment\", i + 2, \":\", np.var(A[var_segments[i]:var_segments[i + 1]]))\n",
    "print(\"Variance of segment\", i + 3, \":\", np.var(A[var_segments[i + 1]:len(A)]))\n",
    "var_sum = np.var(A[0:var_segments[0]])\n",
    "for i in range(0, len(var_segments) - 1):\n",
    "    var_sum += np.var(A[var_segments[i]:var_segments[i + 1]])\n",
    "var_sum += np.var(A[var_segments[i + 1]:len(A)])\n",
    "print(\"Sum of variances:\", var_sum)"
   ]
  },
  {
   "cell_type": "code",
   "execution_count": null,
   "id": "45f3fcc8",
   "metadata": {},
   "outputs": [],
   "source": [
    "#DATA PREPARATION"
   ]
  },
  {
   "cell_type": "code",
   "execution_count": null,
   "id": "06cb196b",
   "metadata": {
    "scrolled": false
   },
   "outputs": [],
   "source": [
    "A = np.loadtxt('resources/all_processes.txt')\n",
    "A = A.transpose()\n",
    "\n",
    "resultall = []\n",
    "resultallratio = []\n",
    "minlist = []\n",
    "ratiolist = []\n",
    "maxvalue = 0\n",
    "length = len(A[:, 0])\n",
    "index = 939 #index 603\n",
    "x = np.arange(1, length + 1)\n",
    "\n",
    "single_plot(A[:, 519], 'Reading point / a.u.', 'Signal range / a.u.')\n",
    "plt.savefig(\"images/sample_process.svg\", bbox_inches=\"tight\")\n",
    "plt.show()\n",
    "\n",
    "for i in range(0, index):\n",
    "    result = []\n",
    "    result = A[:, i]\n",
    "    \n",
    "    minlist = np.append(minlist, min(result))\n",
    "    minimum = min(result)\n",
    "    result = [x - minimum for x in result]\n",
    "    resultall.append(result)\n",
    "    \n",
    "    ratio = max(result)\n",
    "    ratiolist.append(round(ratio, 2))\n",
    "    if ratio > maxvalue:\n",
    "        maxvalue = ratio\n",
    "\n",
    "\n",
    "resultallcopy = A.transpose()\n",
    "multiplot(resultallcopy, 'Reading point / a.u.', 'Signal range / a.u.', color=[])\n",
    "plt.savefig(\"images/all_processes.svg\", bbox_inches=\"tight\")\n",
    "plt.show()\n",
    "        \n",
    "resultallbase = np.array(resultall)\n",
    "multiplot(resultallbase, 'Reading point / a.u.', 'Signal range / a.u.', color=[])\n",
    "plt.savefig(\"images/all_processes_base.svg\", bbox_inches=\"tight\")\n",
    "plt.show()\n",
    "\n",
    "maxvalue2 = max(ratiolist)\n",
    "ratiolist = [round(x * (1/maxvalue2), 2) for x in ratiolist]\n",
    "ratiolistunique = np.unique(ratiolist)\n",
    "ratiolistcount = ratiolistunique\n",
    "for i in range (0, len(ratiolistunique)):\n",
    "    ratiolistcount[i] = ratiolist.count(ratiolistunique[i])\n",
    "y_pos = np.arange(len(ratiolistunique))\n",
    "\n",
    "bar_plot(y_pos, ratiolistcount, 'Relative max values', 'Frequency')\n",
    "plt.show()\n",
    "\n",
    "threshold = 0.6\n",
    "for i in range(0, index):\n",
    "    if max(resultall[i]) > threshold * maxvalue:\n",
    "        resultall[i] = [x + minlist[i] for x in resultall[i]]\n",
    "        resultallratio.append(resultall[i])\n",
    "\n",
    "np.savetxt('resources/filtered_processes.txt', resultallratio)\n",
    "resultallratio = np.array(resultallratio)\n",
    "multiplot(resultallratio, 'Reading point / a.u.', 'Signal range / a.u.', color=[])\n",
    "plt.savefig(\"images/all_processes_filtered.svg\", bbox_inches=\"tight\")\n",
    "plt.show()"
   ]
  },
  {
   "cell_type": "code",
   "execution_count": null,
   "id": "b97ff33b",
   "metadata": {},
   "outputs": [],
   "source": [
    "#SEGMENTATION OF FILTERED DATA SET WITH CUSTOM ALGORITHM"
   ]
  },
  {
   "cell_type": "code",
   "execution_count": null,
   "id": "09fae1f0",
   "metadata": {
    "scrolled": false
   },
   "outputs": [],
   "source": [
    "A = np.loadtxt('resources/filtered_processes.txt')\n",
    "\n",
    "n_segments = 8\n",
    "preseg = []\n",
    "for i in range(1, n_segments):\n",
    "    preseg.append(int(len(A[1, :])*i/n_segments))\n",
    "\n",
    "multiplot_lines(A, 'Reading point / a.u.', 'Signal range / a.u.', color=[], lines=preseg, label=\"Segmentation line\")\n",
    "plt.savefig(\"images/all_processes_presegmentation.svg\", bbox_inches=\"tight\")\n",
    "plt.show()\n",
    "\n",
    "print(\"Presegmentation:\", preseg)\n",
    "print(\"\")\n",
    "print(\"Variance of segment 1:\", np.var(A[:, 0:preseg[0]]))\n",
    "for i in range(0, len(preseg) - 1):\n",
    "    print(\"Variance of segment\", i + 2, \":\", np.var(A[:, preseg[i]:preseg[i + 1]]))\n",
    "print(\"Variance of segment\", i + 3, \":\", np.var(A[:, preseg[i + 1]:len(A[1, :])]))\n",
    "var_sum = np.var(A[:, 0:preseg[0]])\n",
    "for i in range(0, len(preseg) - 1):\n",
    "    var_sum += np.var(A[:, preseg[i]:preseg[i + 1]])\n",
    "var_sum += np.var(A[:, preseg[i + 1]:len(A[1, :])])\n",
    "print(\"Sum of variances:\", var_sum)\n",
    "print(\"\")\n",
    "print(\"\")\n",
    "\n",
    "var_segments = preseg\n",
    "anim = []\n",
    "\n",
    "print(\"Segmentation indices:\")\n",
    "print(\"\")\n",
    "\n",
    "var_segments = approximated_segmentation_multi(A, var_segments)\n",
    "    \n",
    "multiplot_lines(A, 'Reading point / a.u.', 'Signal range / a.u.', color=[], lines=var_segments, label=\"Segmentation line\")\n",
    "plt.savefig(\"images/all_processes_segmented.svg\", bbox_inches=\"tight\")\n",
    "plt.show()    \n",
    "    \n",
    "print(\"\")\n",
    "print(\"\")\n",
    "print(\"New segmentation:\", var_segments)\n",
    "print(\"\")\n",
    "print(\"Variance of segment 1:\", np.var(A[:, 0:var_segments[0]]))\n",
    "for i in range(0, len(var_segments) - 1):\n",
    "    print(\"Variance of segment\", i + 2, \":\", np.var(A[:, var_segments[i]:var_segments[i + 1]]))\n",
    "print(\"Variance of segment\", i + 3, \":\", np.var(A[:, var_segments[i + 1]:len(A[1, :])]))\n",
    "var_sum = np.var(A[:, 0:var_segments[0]])\n",
    "for i in range(0, len(var_segments) - 1):\n",
    "    var_sum += np.var(A[:, var_segments[i]:var_segments[i + 1]])\n",
    "var_sum += np.var(A[:, var_segments[i + 1]:len(A[1, :])])\n",
    "print(\"Sum of variances:\", var_sum)"
   ]
  }
 ],
 "metadata": {
  "kernelspec": {
   "display_name": "Python 3 (ipykernel)",
   "language": "python",
   "name": "python3"
  },
  "language_info": {
   "codemirror_mode": {
    "name": "ipython",
    "version": 3
   },
   "file_extension": ".py",
   "mimetype": "text/x-python",
   "name": "python",
   "nbconvert_exporter": "python",
   "pygments_lexer": "ipython3",
   "version": "3.10.0"
  }
 },
 "nbformat": 4,
 "nbformat_minor": 5
}
